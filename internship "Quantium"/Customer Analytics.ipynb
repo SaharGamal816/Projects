{
 "cells": [
  {
   "cell_type": "markdown",
   "id": "b1279388",
   "metadata": {},
   "source": [
    "# Quantium Data Analytics"
   ]
  },
  {
   "cell_type": "markdown",
   "id": "ae50ad3f",
   "metadata": {},
   "source": [
    "###        loading Data "
   ]
  },
  {
   "cell_type": "code",
   "execution_count": 1,
   "id": "bb2f577f",
   "metadata": {},
   "outputs": [],
   "source": [
    "import pandas as pd\n",
    "import numpy as np\n",
    "import seaborn as sns\n",
    "import matplotlib.pyplot as plot"
   ]
  },
  {
   "cell_type": "code",
   "execution_count": 2,
   "id": "a514f67d",
   "metadata": {},
   "outputs": [],
   "source": [
    "customerData=pd.read_csv(\"C:/Users/Sahar/Desktop/QVI_purchase_behaviour.csv\")"
   ]
  },
  {
   "cell_type": "code",
   "execution_count": 3,
   "id": "05717f96",
   "metadata": {},
   "outputs": [],
   "source": [
    "transaction_data=pd.read_excel(\"C:/Users/Sahar/Desktop/QVI_transaction_data.xlsx\")"
   ]
  },
  {
   "cell_type": "markdown",
   "id": "2054de1f",
   "metadata": {},
   "source": [
    "###        Reading And Explore  Data"
   ]
  },
  {
   "cell_type": "code",
   "execution_count": 4,
   "id": "ab0bb3e0",
   "metadata": {},
   "outputs": [
    {
     "data": {
      "text/html": [
       "<div>\n",
       "<style scoped>\n",
       "    .dataframe tbody tr th:only-of-type {\n",
       "        vertical-align: middle;\n",
       "    }\n",
       "\n",
       "    .dataframe tbody tr th {\n",
       "        vertical-align: top;\n",
       "    }\n",
       "\n",
       "    .dataframe thead th {\n",
       "        text-align: right;\n",
       "    }\n",
       "</style>\n",
       "<table border=\"1\" class=\"dataframe\">\n",
       "  <thead>\n",
       "    <tr style=\"text-align: right;\">\n",
       "      <th></th>\n",
       "      <th>LYLTY_CARD_NBR</th>\n",
       "      <th>LIFESTAGE</th>\n",
       "      <th>PREMIUM_CUSTOMER</th>\n",
       "    </tr>\n",
       "  </thead>\n",
       "  <tbody>\n",
       "    <tr>\n",
       "      <th>0</th>\n",
       "      <td>1000</td>\n",
       "      <td>YOUNG SINGLES/COUPLES</td>\n",
       "      <td>Premium</td>\n",
       "    </tr>\n",
       "    <tr>\n",
       "      <th>1</th>\n",
       "      <td>1002</td>\n",
       "      <td>YOUNG SINGLES/COUPLES</td>\n",
       "      <td>Mainstream</td>\n",
       "    </tr>\n",
       "    <tr>\n",
       "      <th>2</th>\n",
       "      <td>1003</td>\n",
       "      <td>YOUNG FAMILIES</td>\n",
       "      <td>Budget</td>\n",
       "    </tr>\n",
       "    <tr>\n",
       "      <th>3</th>\n",
       "      <td>1004</td>\n",
       "      <td>OLDER SINGLES/COUPLES</td>\n",
       "      <td>Mainstream</td>\n",
       "    </tr>\n",
       "    <tr>\n",
       "      <th>4</th>\n",
       "      <td>1005</td>\n",
       "      <td>MIDAGE SINGLES/COUPLES</td>\n",
       "      <td>Mainstream</td>\n",
       "    </tr>\n",
       "    <tr>\n",
       "      <th>5</th>\n",
       "      <td>1007</td>\n",
       "      <td>YOUNG SINGLES/COUPLES</td>\n",
       "      <td>Budget</td>\n",
       "    </tr>\n",
       "    <tr>\n",
       "      <th>6</th>\n",
       "      <td>1009</td>\n",
       "      <td>NEW FAMILIES</td>\n",
       "      <td>Premium</td>\n",
       "    </tr>\n",
       "    <tr>\n",
       "      <th>7</th>\n",
       "      <td>1010</td>\n",
       "      <td>YOUNG SINGLES/COUPLES</td>\n",
       "      <td>Mainstream</td>\n",
       "    </tr>\n",
       "    <tr>\n",
       "      <th>8</th>\n",
       "      <td>1011</td>\n",
       "      <td>OLDER SINGLES/COUPLES</td>\n",
       "      <td>Mainstream</td>\n",
       "    </tr>\n",
       "    <tr>\n",
       "      <th>9</th>\n",
       "      <td>1012</td>\n",
       "      <td>OLDER FAMILIES</td>\n",
       "      <td>Mainstream</td>\n",
       "    </tr>\n",
       "  </tbody>\n",
       "</table>\n",
       "</div>"
      ],
      "text/plain": [
       "   LYLTY_CARD_NBR               LIFESTAGE PREMIUM_CUSTOMER\n",
       "0            1000   YOUNG SINGLES/COUPLES          Premium\n",
       "1            1002   YOUNG SINGLES/COUPLES       Mainstream\n",
       "2            1003          YOUNG FAMILIES           Budget\n",
       "3            1004   OLDER SINGLES/COUPLES       Mainstream\n",
       "4            1005  MIDAGE SINGLES/COUPLES       Mainstream\n",
       "5            1007   YOUNG SINGLES/COUPLES           Budget\n",
       "6            1009            NEW FAMILIES          Premium\n",
       "7            1010   YOUNG SINGLES/COUPLES       Mainstream\n",
       "8            1011   OLDER SINGLES/COUPLES       Mainstream\n",
       "9            1012          OLDER FAMILIES       Mainstream"
      ]
     },
     "execution_count": 4,
     "metadata": {},
     "output_type": "execute_result"
    }
   ],
   "source": [
    "customerData.head(10)"
   ]
  },
  {
   "cell_type": "code",
   "execution_count": 5,
   "id": "bb220d7a",
   "metadata": {},
   "outputs": [
    {
     "name": "stdout",
     "output_type": "stream",
     "text": [
      "Uniques in LIFESTAGE >> \n",
      " \n",
      "['YOUNG SINGLES/COUPLES' 'YOUNG FAMILIES' 'OLDER SINGLES/COUPLES'\n",
      " 'MIDAGE SINGLES/COUPLES' 'NEW FAMILIES' 'OLDER FAMILIES' 'RETIREES']\n",
      "Uniques in PREMIUM_CUSTOMER >> \n",
      " \n",
      "['Premium' 'Mainstream' 'Budget']\n"
     ]
    }
   ],
   "source": [
    "print(\"Uniques in LIFESTAGE >> \\n \");print(customerData[\"LIFESTAGE\"].unique())\n",
    "print(\"Uniques in PREMIUM_CUSTOMER >> \\n \");print(customerData[\"PREMIUM_CUSTOMER\"].unique())"
   ]
  },
  {
   "cell_type": "code",
   "execution_count": 6,
   "id": "7e9101c8",
   "metadata": {},
   "outputs": [
    {
     "data": {
      "text/html": [
       "<div>\n",
       "<style scoped>\n",
       "    .dataframe tbody tr th:only-of-type {\n",
       "        vertical-align: middle;\n",
       "    }\n",
       "\n",
       "    .dataframe tbody tr th {\n",
       "        vertical-align: top;\n",
       "    }\n",
       "\n",
       "    .dataframe thead th {\n",
       "        text-align: right;\n",
       "    }\n",
       "</style>\n",
       "<table border=\"1\" class=\"dataframe\">\n",
       "  <thead>\n",
       "    <tr style=\"text-align: right;\">\n",
       "      <th></th>\n",
       "      <th>DATE</th>\n",
       "      <th>STORE_NBR</th>\n",
       "      <th>LYLTY_CARD_NBR</th>\n",
       "      <th>TXN_ID</th>\n",
       "      <th>PROD_NBR</th>\n",
       "      <th>PROD_NAME</th>\n",
       "      <th>PROD_QTY</th>\n",
       "      <th>TOT_SALES</th>\n",
       "    </tr>\n",
       "  </thead>\n",
       "  <tbody>\n",
       "    <tr>\n",
       "      <th>0</th>\n",
       "      <td>43390</td>\n",
       "      <td>1</td>\n",
       "      <td>1000</td>\n",
       "      <td>1</td>\n",
       "      <td>5</td>\n",
       "      <td>Natural Chip        Compny SeaSalt175g</td>\n",
       "      <td>2</td>\n",
       "      <td>6.0</td>\n",
       "    </tr>\n",
       "    <tr>\n",
       "      <th>1</th>\n",
       "      <td>43599</td>\n",
       "      <td>1</td>\n",
       "      <td>1307</td>\n",
       "      <td>348</td>\n",
       "      <td>66</td>\n",
       "      <td>CCs Nacho Cheese    175g</td>\n",
       "      <td>3</td>\n",
       "      <td>6.3</td>\n",
       "    </tr>\n",
       "    <tr>\n",
       "      <th>2</th>\n",
       "      <td>43605</td>\n",
       "      <td>1</td>\n",
       "      <td>1343</td>\n",
       "      <td>383</td>\n",
       "      <td>61</td>\n",
       "      <td>Smiths Crinkle Cut  Chips Chicken 170g</td>\n",
       "      <td>2</td>\n",
       "      <td>2.9</td>\n",
       "    </tr>\n",
       "    <tr>\n",
       "      <th>3</th>\n",
       "      <td>43329</td>\n",
       "      <td>2</td>\n",
       "      <td>2373</td>\n",
       "      <td>974</td>\n",
       "      <td>69</td>\n",
       "      <td>Smiths Chip Thinly  S/Cream&amp;Onion 175g</td>\n",
       "      <td>5</td>\n",
       "      <td>15.0</td>\n",
       "    </tr>\n",
       "    <tr>\n",
       "      <th>4</th>\n",
       "      <td>43330</td>\n",
       "      <td>2</td>\n",
       "      <td>2426</td>\n",
       "      <td>1038</td>\n",
       "      <td>108</td>\n",
       "      <td>Kettle Tortilla ChpsHny&amp;Jlpno Chili 150g</td>\n",
       "      <td>3</td>\n",
       "      <td>13.8</td>\n",
       "    </tr>\n",
       "    <tr>\n",
       "      <th>5</th>\n",
       "      <td>43604</td>\n",
       "      <td>4</td>\n",
       "      <td>4074</td>\n",
       "      <td>2982</td>\n",
       "      <td>57</td>\n",
       "      <td>Old El Paso Salsa   Dip Tomato Mild 300g</td>\n",
       "      <td>1</td>\n",
       "      <td>5.1</td>\n",
       "    </tr>\n",
       "    <tr>\n",
       "      <th>6</th>\n",
       "      <td>43601</td>\n",
       "      <td>4</td>\n",
       "      <td>4149</td>\n",
       "      <td>3333</td>\n",
       "      <td>16</td>\n",
       "      <td>Smiths Crinkle Chips Salt &amp; Vinegar 330g</td>\n",
       "      <td>1</td>\n",
       "      <td>5.7</td>\n",
       "    </tr>\n",
       "    <tr>\n",
       "      <th>7</th>\n",
       "      <td>43601</td>\n",
       "      <td>4</td>\n",
       "      <td>4196</td>\n",
       "      <td>3539</td>\n",
       "      <td>24</td>\n",
       "      <td>Grain Waves         Sweet Chilli 210g</td>\n",
       "      <td>1</td>\n",
       "      <td>3.6</td>\n",
       "    </tr>\n",
       "    <tr>\n",
       "      <th>8</th>\n",
       "      <td>43332</td>\n",
       "      <td>5</td>\n",
       "      <td>5026</td>\n",
       "      <td>4525</td>\n",
       "      <td>42</td>\n",
       "      <td>Doritos Corn Chip Mexican Jalapeno 150g</td>\n",
       "      <td>1</td>\n",
       "      <td>3.9</td>\n",
       "    </tr>\n",
       "    <tr>\n",
       "      <th>9</th>\n",
       "      <td>43330</td>\n",
       "      <td>7</td>\n",
       "      <td>7150</td>\n",
       "      <td>6900</td>\n",
       "      <td>52</td>\n",
       "      <td>Grain Waves Sour    Cream&amp;Chives 210G</td>\n",
       "      <td>2</td>\n",
       "      <td>7.2</td>\n",
       "    </tr>\n",
       "  </tbody>\n",
       "</table>\n",
       "</div>"
      ],
      "text/plain": [
       "    DATE  STORE_NBR  LYLTY_CARD_NBR  TXN_ID  PROD_NBR  \\\n",
       "0  43390          1            1000       1         5   \n",
       "1  43599          1            1307     348        66   \n",
       "2  43605          1            1343     383        61   \n",
       "3  43329          2            2373     974        69   \n",
       "4  43330          2            2426    1038       108   \n",
       "5  43604          4            4074    2982        57   \n",
       "6  43601          4            4149    3333        16   \n",
       "7  43601          4            4196    3539        24   \n",
       "8  43332          5            5026    4525        42   \n",
       "9  43330          7            7150    6900        52   \n",
       "\n",
       "                                  PROD_NAME  PROD_QTY  TOT_SALES  \n",
       "0    Natural Chip        Compny SeaSalt175g         2        6.0  \n",
       "1                  CCs Nacho Cheese    175g         3        6.3  \n",
       "2    Smiths Crinkle Cut  Chips Chicken 170g         2        2.9  \n",
       "3    Smiths Chip Thinly  S/Cream&Onion 175g         5       15.0  \n",
       "4  Kettle Tortilla ChpsHny&Jlpno Chili 150g         3       13.8  \n",
       "5  Old El Paso Salsa   Dip Tomato Mild 300g         1        5.1  \n",
       "6  Smiths Crinkle Chips Salt & Vinegar 330g         1        5.7  \n",
       "7     Grain Waves         Sweet Chilli 210g         1        3.6  \n",
       "8   Doritos Corn Chip Mexican Jalapeno 150g         1        3.9  \n",
       "9     Grain Waves Sour    Cream&Chives 210G         2        7.2  "
      ]
     },
     "execution_count": 6,
     "metadata": {},
     "output_type": "execute_result"
    }
   ],
   "source": [
    "c.head(10)"
   ]
  },
  {
   "cell_type": "code",
   "execution_count": 7,
   "id": "1f0c217c",
   "metadata": {},
   "outputs": [
    {
     "data": {
      "text/html": [
       "<div>\n",
       "<style scoped>\n",
       "    .dataframe tbody tr th:only-of-type {\n",
       "        vertical-align: middle;\n",
       "    }\n",
       "\n",
       "    .dataframe tbody tr th {\n",
       "        vertical-align: top;\n",
       "    }\n",
       "\n",
       "    .dataframe thead th {\n",
       "        text-align: right;\n",
       "    }\n",
       "</style>\n",
       "<table border=\"1\" class=\"dataframe\">\n",
       "  <thead>\n",
       "    <tr style=\"text-align: right;\">\n",
       "      <th></th>\n",
       "      <th>DATE</th>\n",
       "      <th>STORE_NBR</th>\n",
       "      <th>LYLTY_CARD_NBR</th>\n",
       "      <th>TXN_ID</th>\n",
       "      <th>PROD_NBR</th>\n",
       "      <th>PROD_QTY</th>\n",
       "      <th>TOT_SALES</th>\n",
       "      <th>PROD_SIZE</th>\n",
       "      <th>BRAND_Name</th>\n",
       "    </tr>\n",
       "  </thead>\n",
       "  <tbody>\n",
       "    <tr>\n",
       "      <th>0</th>\n",
       "      <td>43390</td>\n",
       "      <td>1</td>\n",
       "      <td>1000</td>\n",
       "      <td>1</td>\n",
       "      <td>5</td>\n",
       "      <td>2</td>\n",
       "      <td>6.0</td>\n",
       "      <td>175 gram</td>\n",
       "      <td>Natural Chip        Compny SeaSalt</td>\n",
       "    </tr>\n",
       "    <tr>\n",
       "      <th>1</th>\n",
       "      <td>43599</td>\n",
       "      <td>1</td>\n",
       "      <td>1307</td>\n",
       "      <td>348</td>\n",
       "      <td>66</td>\n",
       "      <td>3</td>\n",
       "      <td>6.3</td>\n",
       "      <td>175 gram</td>\n",
       "      <td>CCs Nacho Cheese</td>\n",
       "    </tr>\n",
       "    <tr>\n",
       "      <th>2</th>\n",
       "      <td>43605</td>\n",
       "      <td>1</td>\n",
       "      <td>1343</td>\n",
       "      <td>383</td>\n",
       "      <td>61</td>\n",
       "      <td>2</td>\n",
       "      <td>2.9</td>\n",
       "      <td>170 gram</td>\n",
       "      <td>Smiths Crinkle Cut  Chips Chicken</td>\n",
       "    </tr>\n",
       "    <tr>\n",
       "      <th>3</th>\n",
       "      <td>43329</td>\n",
       "      <td>2</td>\n",
       "      <td>2373</td>\n",
       "      <td>974</td>\n",
       "      <td>69</td>\n",
       "      <td>5</td>\n",
       "      <td>15.0</td>\n",
       "      <td>175 gram</td>\n",
       "      <td>Smiths Chip Thinly  S/Cream&amp;Onion</td>\n",
       "    </tr>\n",
       "    <tr>\n",
       "      <th>4</th>\n",
       "      <td>43330</td>\n",
       "      <td>2</td>\n",
       "      <td>2426</td>\n",
       "      <td>1038</td>\n",
       "      <td>108</td>\n",
       "      <td>3</td>\n",
       "      <td>13.8</td>\n",
       "      <td>150 gram</td>\n",
       "      <td>Kettle Tortilla ChpsHny&amp;Jlpno Chili</td>\n",
       "    </tr>\n",
       "    <tr>\n",
       "      <th>5</th>\n",
       "      <td>43604</td>\n",
       "      <td>4</td>\n",
       "      <td>4074</td>\n",
       "      <td>2982</td>\n",
       "      <td>57</td>\n",
       "      <td>1</td>\n",
       "      <td>5.1</td>\n",
       "      <td>300 gram</td>\n",
       "      <td>Old El Paso Salsa   Dip Tomato Mild</td>\n",
       "    </tr>\n",
       "    <tr>\n",
       "      <th>6</th>\n",
       "      <td>43601</td>\n",
       "      <td>4</td>\n",
       "      <td>4149</td>\n",
       "      <td>3333</td>\n",
       "      <td>16</td>\n",
       "      <td>1</td>\n",
       "      <td>5.7</td>\n",
       "      <td>330 gram</td>\n",
       "      <td>Smiths Crinkle Chips Salt &amp; Vinegar</td>\n",
       "    </tr>\n",
       "    <tr>\n",
       "      <th>7</th>\n",
       "      <td>43601</td>\n",
       "      <td>4</td>\n",
       "      <td>4196</td>\n",
       "      <td>3539</td>\n",
       "      <td>24</td>\n",
       "      <td>1</td>\n",
       "      <td>3.6</td>\n",
       "      <td>210 gram</td>\n",
       "      <td>rain Waves         Sweet Chilli</td>\n",
       "    </tr>\n",
       "    <tr>\n",
       "      <th>8</th>\n",
       "      <td>43332</td>\n",
       "      <td>5</td>\n",
       "      <td>5026</td>\n",
       "      <td>4525</td>\n",
       "      <td>42</td>\n",
       "      <td>1</td>\n",
       "      <td>3.9</td>\n",
       "      <td>150 gram</td>\n",
       "      <td>Doritos Corn Chip Mexican Jalapeno</td>\n",
       "    </tr>\n",
       "    <tr>\n",
       "      <th>9</th>\n",
       "      <td>43330</td>\n",
       "      <td>7</td>\n",
       "      <td>7150</td>\n",
       "      <td>6900</td>\n",
       "      <td>52</td>\n",
       "      <td>2</td>\n",
       "      <td>7.2</td>\n",
       "      <td>210 gram</td>\n",
       "      <td>rain Waves Sour    Cream&amp;Chives</td>\n",
       "    </tr>\n",
       "    <tr>\n",
       "      <th>10</th>\n",
       "      <td>43602</td>\n",
       "      <td>7</td>\n",
       "      <td>7215</td>\n",
       "      <td>7176</td>\n",
       "      <td>16</td>\n",
       "      <td>1</td>\n",
       "      <td>5.7</td>\n",
       "      <td>330 gram</td>\n",
       "      <td>Smiths Crinkle Chips Salt &amp; Vinegar</td>\n",
       "    </tr>\n",
       "    <tr>\n",
       "      <th>11</th>\n",
       "      <td>43332</td>\n",
       "      <td>8</td>\n",
       "      <td>8294</td>\n",
       "      <td>8221</td>\n",
       "      <td>114</td>\n",
       "      <td>5</td>\n",
       "      <td>23.0</td>\n",
       "      <td>150 gram</td>\n",
       "      <td>Kettle Sensations   Siracha Lime</td>\n",
       "    </tr>\n",
       "    <tr>\n",
       "      <th>12</th>\n",
       "      <td>43603</td>\n",
       "      <td>9</td>\n",
       "      <td>9208</td>\n",
       "      <td>8634</td>\n",
       "      <td>15</td>\n",
       "      <td>2</td>\n",
       "      <td>9.2</td>\n",
       "      <td>270 gram</td>\n",
       "      <td>Twisties Cheese</td>\n",
       "    </tr>\n",
       "    <tr>\n",
       "      <th>13</th>\n",
       "      <td>43329</td>\n",
       "      <td>13</td>\n",
       "      <td>13213</td>\n",
       "      <td>12447</td>\n",
       "      <td>92</td>\n",
       "      <td>1</td>\n",
       "      <td>1.7</td>\n",
       "      <td>175 gram</td>\n",
       "      <td>WW Crinkle Cut      Chicken</td>\n",
       "    </tr>\n",
       "    <tr>\n",
       "      <th>14</th>\n",
       "      <td>43600</td>\n",
       "      <td>19</td>\n",
       "      <td>19272</td>\n",
       "      <td>16686</td>\n",
       "      <td>44</td>\n",
       "      <td>1</td>\n",
       "      <td>3.3</td>\n",
       "      <td>175 gram</td>\n",
       "      <td>Thins Chips Light&amp;  Tangy</td>\n",
       "    </tr>\n",
       "  </tbody>\n",
       "</table>\n",
       "</div>"
      ],
      "text/plain": [
       "     DATE  STORE_NBR  LYLTY_CARD_NBR  TXN_ID  PROD_NBR  PROD_QTY  TOT_SALES  \\\n",
       "0   43390          1            1000       1         5         2        6.0   \n",
       "1   43599          1            1307     348        66         3        6.3   \n",
       "2   43605          1            1343     383        61         2        2.9   \n",
       "3   43329          2            2373     974        69         5       15.0   \n",
       "4   43330          2            2426    1038       108         3       13.8   \n",
       "5   43604          4            4074    2982        57         1        5.1   \n",
       "6   43601          4            4149    3333        16         1        5.7   \n",
       "7   43601          4            4196    3539        24         1        3.6   \n",
       "8   43332          5            5026    4525        42         1        3.9   \n",
       "9   43330          7            7150    6900        52         2        7.2   \n",
       "10  43602          7            7215    7176        16         1        5.7   \n",
       "11  43332          8            8294    8221       114         5       23.0   \n",
       "12  43603          9            9208    8634        15         2        9.2   \n",
       "13  43329         13           13213   12447        92         1        1.7   \n",
       "14  43600         19           19272   16686        44         1        3.3   \n",
       "\n",
       "    PROD_SIZE                            BRAND_Name  \n",
       "0   175 gram     Natural Chip        Compny SeaSalt  \n",
       "1   175 gram                   CCs Nacho Cheese      \n",
       "2   170 gram     Smiths Crinkle Cut  Chips Chicken   \n",
       "3   175 gram     Smiths Chip Thinly  S/Cream&Onion   \n",
       "4   150 gram   Kettle Tortilla ChpsHny&Jlpno Chili   \n",
       "5   300 gram   Old El Paso Salsa   Dip Tomato Mild   \n",
       "6   330 gram   Smiths Crinkle Chips Salt & Vinegar   \n",
       "7   210 gram       rain Waves         Sweet Chilli   \n",
       "8   150 gram    Doritos Corn Chip Mexican Jalapeno   \n",
       "9   210 gram       rain Waves Sour    Cream&Chives   \n",
       "10  330 gram   Smiths Crinkle Chips Salt & Vinegar   \n",
       "11  150 gram      Kettle Sensations   Siracha Lime   \n",
       "12  270 gram                   Twisties Cheese       \n",
       "13  175 gram           WW Crinkle Cut      Chicken   \n",
       "14  175 gram             Thins Chips Light&  Tangy   "
      ]
     },
     "execution_count": 7,
     "metadata": {},
     "output_type": "execute_result"
    }
   ],
   "source": [
    "transaction_data[\"PROD_SIZE\"]=transaction_data[\"PROD_NAME\"].str.extract(r'(\\d+)')\n",
    "transaction_data[\"BRAND_Name\"]=transaction_data[\"PROD_NAME\"].str.strip(\"gG1234567890\")\n",
    "transaction_data=transaction_data.drop(\"PROD_NAME\",axis=1)\n",
    "transaction_data['PROD_SIZE'] =transaction_data['PROD_SIZE'].astype(str)+' gram ' \n",
    "transaction_data.head(15)"
   ]
  },
  {
   "cell_type": "code",
   "execution_count": 85,
   "id": "a057d180",
   "metadata": {},
   "outputs": [
    {
     "name": "stderr",
     "output_type": "stream",
     "text": [
      "C:\\Users\\Sahar\\AppData\\Local\\Temp\\ipykernel_16080\\4163223091.py:1: FutureWarning: The default value of numeric_only in DataFrame.corr is deprecated. In a future version, it will default to False. Select only valid columns or specify the value of numeric_only to silence this warning.\n",
      "  sns.heatmap(transaction_data.corr(),annot=True)\n"
     ]
    },
    {
     "data": {
      "image/png": "[encoded data removed]",
      "text/plain": [
       "<Figure size 640x480 with 2 Axes>"
      ]
     },
     "metadata": {},
     "output_type": "display_data"
    }
   ],
   "source": [
    "sns.heatmap(transaction_data.corr(),annot=True)\n",
    "plot.show()"
   ]
  },
  {
   "cell_type": "markdown",
   "id": "b80ad67d",
   "metadata": {},
   "source": [
    "###        Data Validation"
   ]
  },
  {
   "cell_type": "code",
   "execution_count": 8,
   "id": "0ea16a7f",
   "metadata": {},
   "outputs": [
    {
     "name": "stdout",
     "output_type": "stream",
     "text": [
      "<class 'pandas.core.frame.DataFrame'>\n",
      "RangeIndex: 72637 entries, 0 to 72636\n",
      "Data columns (total 3 columns):\n",
      " #   Column            Non-Null Count  Dtype \n",
      "---  ------            --------------  ----- \n",
      " 0   LYLTY_CARD_NBR    72637 non-null  int64 \n",
      " 1   LIFESTAGE         72637 non-null  object\n",
      " 2   PREMIUM_CUSTOMER  72637 non-null  object\n",
      "dtypes: int64(1), object(2)\n",
      "memory usage: 1.7+ MB\n"
     ]
    }
   ],
   "source": [
    "customerData.info()"
   ]
  },
  {
   "cell_type": "code",
   "execution_count": 9,
   "id": "d55fb74d",
   "metadata": {},
   "outputs": [
    {
     "name": "stdout",
     "output_type": "stream",
     "text": [
      "<class 'pandas.core.frame.DataFrame'>\n",
      "RangeIndex: 264836 entries, 0 to 264835\n",
      "Data columns (total 9 columns):\n",
      " #   Column          Non-Null Count   Dtype  \n",
      "---  ------          --------------   -----  \n",
      " 0   DATE            264836 non-null  int64  \n",
      " 1   STORE_NBR       264836 non-null  int64  \n",
      " 2   LYLTY_CARD_NBR  264836 non-null  int64  \n",
      " 3   TXN_ID          264836 non-null  int64  \n",
      " 4   PROD_NBR        264836 non-null  int64  \n",
      " 5   PROD_QTY        264836 non-null  int64  \n",
      " 6   TOT_SALES       264836 non-null  float64\n",
      " 7   PROD_SIZE       264836 non-null  object \n",
      " 8   BRAND_Name      264836 non-null  object \n",
      "dtypes: float64(1), int64(6), object(2)\n",
      "memory usage: 18.2+ MB\n"
     ]
    }
   ],
   "source": [
    "transaction_data.info()"
   ]
  },
  {
   "cell_type": "markdown",
   "id": "38a0ed75",
   "metadata": {},
   "source": [
    "###          Data Cleaning"
   ]
  },
  {
   "cell_type": "markdown",
   "id": "fdd6eb42",
   "metadata": {},
   "source": [
    "####                1- Handling Missing Values"
   ]
  },
  {
   "cell_type": "code",
   "execution_count": 10,
   "id": "6e5f3b2e",
   "metadata": {},
   "outputs": [
    {
     "data": {
      "text/plain": [
       "LYLTY_CARD_NBR      0\n",
       "LIFESTAGE           0\n",
       "PREMIUM_CUSTOMER    0\n",
       "dtype: int64"
      ]
     },
     "execution_count": 10,
     "metadata": {},
     "output_type": "execute_result"
    }
   ],
   "source": [
    "customerData.isnull().sum()"
   ]
  },
  {
   "cell_type": "markdown",
   "id": "7b0e02c9",
   "metadata": {},
   "source": [
    "##### \"According to prevoius code there is no missing data in any column in 'customerData' dataset\""
   ]
  },
  {
   "cell_type": "code",
   "execution_count": 11,
   "id": "74ece7b2",
   "metadata": {},
   "outputs": [
    {
     "data": {
      "text/plain": [
       "DATE              0\n",
       "STORE_NBR         0\n",
       "LYLTY_CARD_NBR    0\n",
       "TXN_ID            0\n",
       "PROD_NBR          0\n",
       "PROD_QTY          0\n",
       "TOT_SALES         0\n",
       "PROD_SIZE         0\n",
       "BRAND_Name        0\n",
       "dtype: int64"
      ]
     },
     "execution_count": 11,
     "metadata": {},
     "output_type": "execute_result"
    }
   ],
   "source": [
    "transaction_data.isnull().sum()"
   ]
  },
  {
   "cell_type": "markdown",
   "id": "5ae5b3e4",
   "metadata": {},
   "source": [
    "##### \"According to prevoius code there is no missing data in any column in 'transaction_data' dataset\""
   ]
  },
  {
   "cell_type": "markdown",
   "id": "b2a93851",
   "metadata": {},
   "source": [
    "####                2- Handling Duplicated values"
   ]
  },
  {
   "cell_type": "code",
   "execution_count": 12,
   "id": "3bc3560e",
   "metadata": {},
   "outputs": [
    {
     "name": "stdout",
     "output_type": "stream",
     "text": [
      "Number of duplicated row in transaction_data = 1\n",
      "Number of duplicated row in customerData = 0\n"
     ]
    }
   ],
   "source": [
    "DataSet_list=[transaction_data,customerData]\n",
    "list=[\"transaction_data\",\"customerData\"]\n",
    "for i,d in zip(DataSet_list,list):\n",
    "    print(\"Number of duplicated row in \"+d+\" = \"+str(i.duplicated().sum()))"
   ]
  },
  {
   "cell_type": "markdown",
   "id": "871e3d7f",
   "metadata": {},
   "source": [
    "##### \"According to prevoius code there is Duplicated row in 'transaction_data' dataset\""
   ]
  },
  {
   "cell_type": "code",
   "execution_count": 13,
   "id": "57478760",
   "metadata": {},
   "outputs": [
    {
     "name": "stdout",
     "output_type": "stream",
     "text": [
      "         DATE  STORE_NBR  LYLTY_CARD_NBR  TXN_ID  PROD_NBR  PROD_QTY  \\\n",
      "124845  43374        107          107024  108462        45         2   \n",
      "\n",
      "        TOT_SALES  PROD_SIZE                          BRAND_Name  \n",
      "124845        6.0  175 gram   Smiths Thinly Cut   Roast Chicken   \n"
     ]
    }
   ],
   "source": [
    "print(transaction_data[transaction_data.duplicated()])"
   ]
  },
  {
   "cell_type": "code",
   "execution_count": 14,
   "id": "ca59970f",
   "metadata": {},
   "outputs": [],
   "source": [
    "transaction_data=transaction_data.drop_duplicates()"
   ]
  },
  {
   "cell_type": "code",
   "execution_count": 15,
   "id": "39e83692",
   "metadata": {},
   "outputs": [
    {
     "name": "stdout",
     "output_type": "stream",
     "text": [
      "0\n"
     ]
    }
   ],
   "source": [
    "print(transaction_data.duplicated().sum())"
   ]
  },
  {
   "cell_type": "markdown",
   "id": "24b5d1c0",
   "metadata": {},
   "source": [
    "####                3-Handle Outliers"
   ]
  },
  {
   "cell_type": "code",
   "execution_count": 16,
   "id": "dea30701",
   "metadata": {},
   "outputs": [
    {
     "data": {
      "text/html": [
       "<div>\n",
       "<style scoped>\n",
       "    .dataframe tbody tr th:only-of-type {\n",
       "        vertical-align: middle;\n",
       "    }\n",
       "\n",
       "    .dataframe tbody tr th {\n",
       "        vertical-align: top;\n",
       "    }\n",
       "\n",
       "    .dataframe thead th {\n",
       "        text-align: right;\n",
       "    }\n",
       "</style>\n",
       "<table border=\"1\" class=\"dataframe\">\n",
       "  <thead>\n",
       "    <tr style=\"text-align: right;\">\n",
       "      <th></th>\n",
       "      <th>DATE</th>\n",
       "      <th>STORE_NBR</th>\n",
       "      <th>LYLTY_CARD_NBR</th>\n",
       "      <th>TXN_ID</th>\n",
       "      <th>PROD_NBR</th>\n",
       "      <th>PROD_QTY</th>\n",
       "      <th>TOT_SALES</th>\n",
       "    </tr>\n",
       "  </thead>\n",
       "  <tbody>\n",
       "    <tr>\n",
       "      <th>count</th>\n",
       "      <td>264835.000000</td>\n",
       "      <td>264835.000000</td>\n",
       "      <td>2.648350e+05</td>\n",
       "      <td>2.648350e+05</td>\n",
       "      <td>264835.000000</td>\n",
       "      <td>264835.000000</td>\n",
       "      <td>264835.000000</td>\n",
       "    </tr>\n",
       "    <tr>\n",
       "      <th>mean</th>\n",
       "      <td>43464.036600</td>\n",
       "      <td>135.080216</td>\n",
       "      <td>1.355496e+05</td>\n",
       "      <td>1.351584e+05</td>\n",
       "      <td>56.583201</td>\n",
       "      <td>1.907308</td>\n",
       "      <td>7.304205</td>\n",
       "    </tr>\n",
       "    <tr>\n",
       "      <th>std</th>\n",
       "      <td>105.389336</td>\n",
       "      <td>76.784306</td>\n",
       "      <td>8.058011e+04</td>\n",
       "      <td>7.813316e+04</td>\n",
       "      <td>32.826692</td>\n",
       "      <td>0.643655</td>\n",
       "      <td>3.083231</td>\n",
       "    </tr>\n",
       "    <tr>\n",
       "      <th>min</th>\n",
       "      <td>43282.000000</td>\n",
       "      <td>1.000000</td>\n",
       "      <td>1.000000e+03</td>\n",
       "      <td>1.000000e+00</td>\n",
       "      <td>1.000000</td>\n",
       "      <td>1.000000</td>\n",
       "      <td>1.500000</td>\n",
       "    </tr>\n",
       "    <tr>\n",
       "      <th>25%</th>\n",
       "      <td>43373.000000</td>\n",
       "      <td>70.000000</td>\n",
       "      <td>7.002100e+04</td>\n",
       "      <td>6.760100e+04</td>\n",
       "      <td>28.000000</td>\n",
       "      <td>2.000000</td>\n",
       "      <td>5.400000</td>\n",
       "    </tr>\n",
       "    <tr>\n",
       "      <th>50%</th>\n",
       "      <td>43464.000000</td>\n",
       "      <td>130.000000</td>\n",
       "      <td>1.303580e+05</td>\n",
       "      <td>1.351380e+05</td>\n",
       "      <td>56.000000</td>\n",
       "      <td>2.000000</td>\n",
       "      <td>7.400000</td>\n",
       "    </tr>\n",
       "    <tr>\n",
       "      <th>75%</th>\n",
       "      <td>43555.000000</td>\n",
       "      <td>203.000000</td>\n",
       "      <td>2.030945e+05</td>\n",
       "      <td>2.027015e+05</td>\n",
       "      <td>85.000000</td>\n",
       "      <td>2.000000</td>\n",
       "      <td>9.200000</td>\n",
       "    </tr>\n",
       "    <tr>\n",
       "      <th>max</th>\n",
       "      <td>43646.000000</td>\n",
       "      <td>272.000000</td>\n",
       "      <td>2.373711e+06</td>\n",
       "      <td>2.415841e+06</td>\n",
       "      <td>114.000000</td>\n",
       "      <td>200.000000</td>\n",
       "      <td>650.000000</td>\n",
       "    </tr>\n",
       "  </tbody>\n",
       "</table>\n",
       "</div>"
      ],
      "text/plain": [
       "                DATE      STORE_NBR  LYLTY_CARD_NBR        TXN_ID  \\\n",
       "count  264835.000000  264835.000000    2.648350e+05  2.648350e+05   \n",
       "mean    43464.036600     135.080216    1.355496e+05  1.351584e+05   \n",
       "std       105.389336      76.784306    8.058011e+04  7.813316e+04   \n",
       "min     43282.000000       1.000000    1.000000e+03  1.000000e+00   \n",
       "25%     43373.000000      70.000000    7.002100e+04  6.760100e+04   \n",
       "50%     43464.000000     130.000000    1.303580e+05  1.351380e+05   \n",
       "75%     43555.000000     203.000000    2.030945e+05  2.027015e+05   \n",
       "max     43646.000000     272.000000    2.373711e+06  2.415841e+06   \n",
       "\n",
       "            PROD_NBR       PROD_QTY      TOT_SALES  \n",
       "count  264835.000000  264835.000000  264835.000000  \n",
       "mean       56.583201       1.907308       7.304205  \n",
       "std        32.826692       0.643655       3.083231  \n",
       "min         1.000000       1.000000       1.500000  \n",
       "25%        28.000000       2.000000       5.400000  \n",
       "50%        56.000000       2.000000       7.400000  \n",
       "75%        85.000000       2.000000       9.200000  \n",
       "max       114.000000     200.000000     650.000000  "
      ]
     },
     "execution_count": 16,
     "metadata": {},
     "output_type": "execute_result"
    }
   ],
   "source": [
    "transaction_data.describe()"
   ]
  },
  {
   "cell_type": "code",
   "execution_count": 77,
   "id": "079b7bea",
   "metadata": {},
   "outputs": [
    {
     "data": {
      "image/png": "[encoded data removed]",
      "text/plain": [
       "<Figure size 640x480 with 1 Axes>"
      ]
     },
     "metadata": {},
     "output_type": "display_data"
    }
   ],
   "source": [
    "transaction_data[[\"PROD_QTY\",\"TOT_SALES\"]].plot(kind=\"box\")\n",
    "plot.title(\" Summary Statistics \")\n",
    "plot.ylim(0, 25)\n",
    "plot.show()"
   ]
  },
  {
   "cell_type": "markdown",
   "id": "c3a7d532",
   "metadata": {},
   "source": [
    "##### According to previous chart and summary statistics there are outliers in \"TOT_SALES\", \"PROD_QTY\" Columns"
   ]
  },
  {
   "cell_type": "code",
   "execution_count": 21,
   "id": "d925a92d",
   "metadata": {},
   "outputs": [
    {
     "name": "stdout",
     "output_type": "stream",
     "text": [
      "Number of rows before remove outliers = 264835 Rows\n"
     ]
    }
   ],
   "source": [
    "print(\"Number of rows before remove outliers = \"+str(transaction_data.shape[0])+\" Rows\")"
   ]
  },
  {
   "cell_type": "code",
   "execution_count": 22,
   "id": "558b3003",
   "metadata": {},
   "outputs": [],
   "source": [
    "# Using IQR method we can handle outliers\n",
    "column_with_outlier=[\"PROD_QTY\",\"TOT_SALES\"]\n",
    "for col in column_with_outlier:\n",
    "    IQR=transaction_data[col].quantile(0.75)-transaction_data[col].quantile(0.25)\n",
    "    upper=transaction_data[col].quantile(0.75)+(1.5*IQR)\n",
    "    lower=transaction_data[col].quantile(0.25)-(1.5*IQR)\n",
    "    transactionData=transaction_data[(transaction_data[col]>lower)&(transaction_data[col]<upper)]"
   ]
  },
  {
   "cell_type": "code",
   "execution_count": 23,
   "id": "5ae1a6a3",
   "metadata": {},
   "outputs": [
    {
     "name": "stdout",
     "output_type": "stream",
     "text": [
      "Number of rows After remove outliers = 264257 Rows\n"
     ]
    }
   ],
   "source": [
    "print(\"Number of rows After remove outliers = \"+str(transactionData.shape[0])+\" Rows\")"
   ]
  },
  {
   "cell_type": "markdown",
   "id": "6bbc1a29",
   "metadata": {},
   "source": [
    "##                                            meaningful information"
   ]
  },
  {
   "cell_type": "markdown",
   "id": "f474d90c",
   "metadata": {},
   "source": [
    "###    ** Proportion of Premium Customer "
   ]
  },
  {
   "cell_type": "code",
   "execution_count": 25,
   "id": "0189072e",
   "metadata": {},
   "outputs": [
    {
     "name": "stdout",
     "output_type": "stream",
     "text": [
      "Mainstream    0.402619\n",
      "Budget        0.336881\n",
      "Premium       0.260501\n",
      "Name: PREMIUM_CUSTOMER, dtype: float64\n"
     ]
    }
   ],
   "source": [
    "Data=customerData[\"PREMIUM_CUSTOMER\"].value_counts(normalize=True)\n",
    "print(Data)"
   ]
  },
  {
   "cell_type": "markdown",
   "id": "310ad796",
   "metadata": {},
   "source": [
    "#### According to previous Information the number of premium customer consider 26% of total customer  So, Focus on  Increasing your premium customer By Understand Your Audience: \n",
    "1- Identify your target premium customer segment.              \n",
    "2- Understand their needs and preferences."
   ]
  },
  {
   "cell_type": "markdown",
   "id": "d2dfc2d4",
   "metadata": {},
   "source": [
    "### **  Premium Customer by Customer State "
   ]
  },
  {
   "cell_type": "code",
   "execution_count": 42,
   "id": "e6dc08c6",
   "metadata": {},
   "outputs": [
    {
     "data": {
      "image/png": "[encoded data removed]",
      "text/plain": [
       "<Figure size 640x480 with 1 Axes>"
      ]
     },
     "metadata": {},
     "output_type": "display_data"
    }
   ],
   "source": [
    "sns.countplot(data=customerData,x=\"LIFESTAGE\",hue=\"PREMIUM_CUSTOMER\",color=\"purple\")\n",
    "plot.xticks(rotation=90)\n",
    "plot.show()"
   ]
  },
  {
   "cell_type": "markdown",
   "id": "2df83606",
   "metadata": {},
   "source": [
    "#### According to previous Information  Most premium customer are  \"Older Sigles/Couples\" "
   ]
  },
  {
   "cell_type": "markdown",
   "id": "7f78beca",
   "metadata": {},
   "source": [
    "### ** Customer state "
   ]
  },
  {
   "cell_type": "code",
   "execution_count": 41,
   "id": "b43ba432",
   "metadata": {},
   "outputs": [
    {
     "data": {
      "image/png": "[encoded data removed]",
      "text/plain": [
       "<Figure size 640x480 with 1 Axes>"
      ]
     },
     "metadata": {},
     "output_type": "display_data"
    }
   ],
   "source": [
    "sns.countplot(data=customerData,x=\"LIFESTAGE\",color=\"purple\")\n",
    "plot.xticks(rotation=90)\n",
    "plot.title(\"Customer By Life Stage\")\n",
    "plot.show()"
   ]
  },
  {
   "cell_type": "markdown",
   "id": "1da3bc47",
   "metadata": {},
   "source": [
    "#### According to previous information common  3 Customer state are    \"Older Sigles/Couples\"  , \"Young Sigles/Couples\" ,\"Retirees\""
   ]
  },
  {
   "cell_type": "markdown",
   "id": "23affaa8",
   "metadata": {},
   "source": [
    "### **  Brands with top sales"
   ]
  },
  {
   "cell_type": "code",
   "execution_count": 49,
   "id": "42fc3ed3",
   "metadata": {},
   "outputs": [
    {
     "name": "stdout",
     "output_type": "stream",
     "text": [
      "BRAND_Name\n",
      "Smiths Crinkle Chips Salt & Vinegar     34804.2\n",
      "Smiths Crnkle Chip  Orgnl Big Bag       36367.6\n",
      "Dorito Corn Chp     Supreme             40352.0\n",
      "Name: TOT_SALES, dtype: float64\n"
     ]
    }
   ],
   "source": [
    "TOP_BRAND_NAME=transaction_data.groupby(\"BRAND_Name\")[\"TOT_SALES\"].sum().sort_values()\n",
    "TOP_3_BRAND_NAME=TOP_BRAND_NAME.tail(3)\n",
    "print(TOP_3_BRAND_NAME)"
   ]
  },
  {
   "cell_type": "markdown",
   "id": "1d6f5289",
   "metadata": {},
   "source": [
    "####    According to previous information top 3 Brand >>\n",
    "         -Smiths Crinkle Chips Salt & Vinegar .            \n",
    "         -Smiths Crnkle Chip  Orgnl Big Bag.                     \n",
    "         -Dorito Corn Chp Supreme. "
   ]
  },
  {
   "cell_type": "markdown",
   "id": "ce24c22b",
   "metadata": {},
   "source": [
    "### ** Common Brand "
   ]
  },
  {
   "cell_type": "code",
   "execution_count": 50,
   "id": "a2fce127",
   "metadata": {},
   "outputs": [
    {
     "name": "stdout",
     "output_type": "stream",
     "text": [
      "Kettle Mozzarella   Basil & Pesto \n"
     ]
    }
   ],
   "source": [
    "print(transaction_data[\"BRAND_Name\"].mode()[0])                       "
   ]
  },
  {
   "cell_type": "markdown",
   "id": "ed94b96e",
   "metadata": {},
   "source": [
    "#### \" Kettle Mozzarella   Basil & Pesto  \" is the most common Brand "
   ]
  },
  {
   "cell_type": "markdown",
   "id": "dc11a3bb",
   "metadata": {},
   "source": [
    "### ** the Most popular Brand "
   ]
  },
  {
   "cell_type": "code",
   "execution_count": 71,
   "id": "8f4285f6",
   "metadata": {},
   "outputs": [
    {
     "name": "stdout",
     "output_type": "stream",
     "text": [
      "                                      PROD_QTY\n",
      "BRAND_Name                                    \n",
      "Dorito Corn Chp     Supreme               6509\n",
      "Kettle Mozzarella   Basil & Pesto         6381\n",
      "Kettle Tortilla ChpsHny&Jlpno Chili       6309\n",
      "Cobs Popd Sea Salt  Chips                 6277\n",
      "Cobs Popd Swt/Chlli &Sr/Cream Chips       6256\n",
      "...                                        ...\n",
      "RRD Pc Sea Salt                           2702\n",
      "Woolworths Medium   Salsa                 2700\n",
      "NCC Sour Cream &    Garden Chives         2682\n",
      "WW Crinkle Cut      Original              2666\n",
      "French Fries Potato Chips                 2643\n",
      "\n",
      "[114 rows x 1 columns]\n"
     ]
    }
   ],
   "source": [
    "pivot=transaction_data.pivot_table(values=\"PROD_QTY\",index=\"BRAND_Name\",aggfunc=sum)\n",
    "print(pivot.sort_values(by=\"PROD_QTY\",ascending=False))"
   ]
  },
  {
   "cell_type": "markdown",
   "id": "088da6eb",
   "metadata": {},
   "source": [
    "#### Most popular Brand is       \"Dorito Corn Chp Supreme\""
   ]
  },
  {
   "cell_type": "markdown",
   "id": "2794cea8",
   "metadata": {},
   "source": [
    "### ** Packet Size With Sales"
   ]
  },
  {
   "cell_type": "code",
   "execution_count": 72,
   "id": "f8347dc7",
   "metadata": {},
   "outputs": [
    {
     "name": "stdout",
     "output_type": "stream",
     "text": [
      "           TOT_SALES\n",
      "PROD_SIZE           \n",
      "380 gram   11.953817\n",
      "330 gram   10.908636\n",
      "270 gram    8.818679\n",
      "250 gram    8.234995\n",
      "135 gram    8.010562\n",
      "300 gram    7.472676\n",
      "170 gram    7.339889\n",
      "175 gram    7.311925\n",
      "110 gram    7.270532\n",
      "134 gram    7.077344\n",
      "150 gram    7.054984\n",
      "210 gram    6.863648\n",
      "165 gram    6.626175\n",
      "180 gram    5.836785\n",
      "190 gram    4.812321\n",
      "70 gram     4.546782\n",
      "220 gram    4.367647\n",
      "125 gram    3.942916\n",
      "160 gram    3.585051\n",
      "200 gram    3.578694\n",
      "90 gram     3.216888\n"
     ]
    }
   ],
   "source": [
    "Pivot=transaction_data.pivot_table(values=\"TOT_SALES\",index=\"PROD_SIZE\",aggfunc=np.mean)\n",
    "print(Pivot.sort_values(by=\"TOT_SALES\",ascending=False))"
   ]
  },
  {
   "cell_type": "markdown",
   "id": "aff276e0",
   "metadata": {},
   "source": [
    "#### high mean of sales with larger size like [380 g , 330h , 270g , 250g] of packet "
   ]
  },
  {
   "cell_type": "markdown",
   "id": "122a8ee6",
   "metadata": {},
   "source": [
    "### ** Common Packet Size "
   ]
  },
  {
   "cell_type": "code",
   "execution_count": 57,
   "id": "81dc4f51",
   "metadata": {},
   "outputs": [
    {
     "name": "stdout",
     "output_type": "stream",
     "text": [
      "175 gram \n"
     ]
    }
   ],
   "source": [
    "print(transaction_data[\"PROD_SIZE\"].mode()[0]) "
   ]
  },
  {
   "cell_type": "markdown",
   "id": "1e9c8da5",
   "metadata": {},
   "source": [
    "#### the most common purchase  packet size  is 175 gram "
   ]
  },
  {
   "cell_type": "code",
   "execution_count": null,
   "id": "cf5572ff",
   "metadata": {},
   "outputs": [],
   "source": []
  }
 ],
 "metadata": {
  "kernelspec": {
   "display_name": "Python 3 (ipykernel)",
   "language": "python",
   "name": "python3"
  },
  "language_info": {
   "codemirror_mode": {
    "name": "ipython",
    "version": 3
   },
   "file_extension": ".py",
   "mimetype": "text/x-python",
   "name": "python",
   "nbconvert_exporter": "python",
   "pygments_lexer": "ipython3",
   "version": "3.9.17"
  }
 },
 "nbformat": 4,
 "nbformat_minor": 5
}
